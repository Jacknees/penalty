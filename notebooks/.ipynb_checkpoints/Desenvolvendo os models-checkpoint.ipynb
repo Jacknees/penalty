{
 "cells": [
  {
   "cell_type": "code",
   "execution_count": 1,
   "metadata": {
    "collapsed": true
   },
   "outputs": [],
   "source": [
    "MYPROJECT = '../'\n",
    "import os, sys\n",
    "sys.path.insert(0, MYPROJECT)\n",
    "os.environ.setdefault(\"DJANGO_SETTINGS_MODULE\", \"settings.py\")\n",
    "import django\n",
    "django.setup()"
   ]
  },
  {
   "cell_type": "code",
   "execution_count": 2,
   "metadata": {
    "collapsed": true
   },
   "outputs": [],
   "source": [
    "from core.models import User\n",
    "from ambiente.models import Ambiente, Evento, date, timezone"
   ]
  },
  {
   "cell_type": "code",
   "execution_count": 3,
   "metadata": {
    "collapsed": true
   },
   "outputs": [],
   "source": [
    "admin = User.objects.get(pk=1)"
   ]
  },
  {
   "cell_type": "code",
   "execution_count": 5,
   "metadata": {
    "collapsed": true
   },
   "outputs": [],
   "source": [
    "# criando um registro múltiplo\n",
    "\n",
    "datafim = date(2017, 9, 10)\n",
    "\n",
    "evento = Evento()\n",
    "evento.nome = \"Três em três dias\"\n",
    "evento.criador = admin\n",
    "evento.descricao = \"Descrição do evento\"\n",
    "evento.data_fim = datafim\n",
    "evento.id_agrupador = 1\n",
    "evento.valor_multa = 2.\n",
    "evento.quantidade_intervalos_repeticao = 3\n",
    "evento.intervalo = \"D\""
   ]
  },
  {
   "cell_type": "code",
   "execution_count": 6,
   "metadata": {},
   "outputs": [],
   "source": [
    "evento.multipublish()"
   ]
  },
  {
   "cell_type": "code",
   "execution_count": 7,
   "metadata": {},
   "outputs": [
    {
     "data": {
      "text/plain": [
       "<QuerySet [<Evento: Três em três dias>, <Evento: Três em três dias>, <Evento: Três em três dias>, <Evento: Três em três dias>]>"
      ]
     },
     "execution_count": 7,
     "metadata": {},
     "output_type": "execute_result"
    }
   ],
   "source": [
    "Evento.objects.all()"
   ]
  },
  {
   "cell_type": "code",
   "execution_count": 9,
   "metadata": {},
   "outputs": [],
   "source": [
    "# criando um registro múltiplo\n",
    "\n",
    "datafim = date(2017, 9, 20)\n",
    "\n",
    "evento = Evento()\n",
    "evento.nome = \"Semanal\"\n",
    "evento.criador = admin\n",
    "evento.descricao = \"Descrição do evento\"\n",
    "evento.data_fim = datafim\n",
    "evento.id_agrupador = 1\n",
    "evento.valor_multa = 2.\n",
    "evento.quantidade_intervalos_repeticao = 1\n",
    "evento.intervalo = \"S\""
   ]
  },
  {
   "cell_type": "code",
   "execution_count": 10,
   "metadata": {
    "collapsed": true
   },
   "outputs": [],
   "source": [
    "evento.multipublish()"
   ]
  },
  {
   "cell_type": "code",
   "execution_count": 11,
   "metadata": {},
   "outputs": [
    {
     "data": {
      "text/plain": [
       "<QuerySet [<Evento: Três em três dias>, <Evento: Três em três dias>, <Evento: Três em três dias>, <Evento: Três em três dias>, <Evento: Semanal>, <Evento: Semanal>, <Evento: Semanal>]>"
      ]
     },
     "execution_count": 11,
     "metadata": {},
     "output_type": "execute_result"
    }
   ],
   "source": [
    "Evento.objects.all()"
   ]
  },
  {
   "cell_type": "code",
   "execution_count": 15,
   "metadata": {
    "collapsed": true
   },
   "outputs": [],
   "source": [
    "datafim = date(2018, 3, 20)\n",
    "\n",
    "evento = Evento()\n",
    "evento.nome = \"Mensal\"\n",
    "evento.criador = admin\n",
    "evento.descricao = \"Descrição do evento\"\n",
    "evento.data_fim = datafim\n",
    "evento.id_agrupador = 1\n",
    "evento.valor_multa = 2.\n",
    "evento.quantidade_intervalos_repeticao = 1\n",
    "evento.intervalo = \"M\""
   ]
  },
  {
   "cell_type": "code",
   "execution_count": 16,
   "metadata": {},
   "outputs": [
    {
     "ename": "TypeError",
     "evalue": "'datetime.date' object cannot be interpreted as an integer",
     "output_type": "error",
     "traceback": [
      "\u001b[0;31m---------------------------------------------------------------------------\u001b[0m",
      "\u001b[0;31mTypeError\u001b[0m                                 Traceback (most recent call last)",
      "\u001b[0;32m<ipython-input-16-b1f3a67300dd>\u001b[0m in \u001b[0;36m<module>\u001b[0;34m()\u001b[0m\n\u001b[0;32m----> 1\u001b[0;31m \u001b[0mevento\u001b[0m\u001b[0;34m.\u001b[0m\u001b[0mmultipublish\u001b[0m\u001b[0;34m(\u001b[0m\u001b[0;34m)\u001b[0m\u001b[0;34m\u001b[0m\u001b[0m\n\u001b[0m",
      "\u001b[0;32m~/virtual/penalty/penalty/ambiente/models.py\u001b[0m in \u001b[0;36mmultipublish\u001b[0;34m(self)\u001b[0m\n\u001b[1;32m     61\u001b[0m \u001b[0;34m\u001b[0m\u001b[0m\n\u001b[1;32m     62\u001b[0m                 \u001b[0;32melif\u001b[0m \u001b[0mself\u001b[0m\u001b[0;34m.\u001b[0m\u001b[0mintervalo\u001b[0m \u001b[0;34m==\u001b[0m \u001b[0;34m'M'\u001b[0m\u001b[0;34m:\u001b[0m\u001b[0;34m\u001b[0m\u001b[0m\n\u001b[0;32m---> 63\u001b[0;31m                         \u001b[0;32mfor\u001b[0m \u001b[0mi\u001b[0m \u001b[0;32min\u001b[0m \u001b[0mrange\u001b[0m\u001b[0;34m(\u001b[0m\u001b[0mself\u001b[0m\u001b[0;34m.\u001b[0m\u001b[0mdata_inicio\u001b[0m\u001b[0;34m.\u001b[0m\u001b[0mmonth\u001b[0m\u001b[0;34m,\u001b[0m \u001b[0mself\u001b[0m\u001b[0;34m.\u001b[0m\u001b[0mdata_fim\u001b[0m\u001b[0;34m.\u001b[0m\u001b[0mmonth\u001b[0m\u001b[0;34m)\u001b[0m\u001b[0;34m:\u001b[0m\u001b[0;34m\u001b[0m\u001b[0m\n\u001b[0m\u001b[1;32m     64\u001b[0m                                 \u001b[0mevento\u001b[0m \u001b[0;34m=\u001b[0m \u001b[0mcopy\u001b[0m\u001b[0;34m(\u001b[0m\u001b[0mself\u001b[0m\u001b[0;34m)\u001b[0m\u001b[0;34m\u001b[0m\u001b[0m\n\u001b[1;32m     65\u001b[0m                                 \u001b[0mdata\u001b[0m\u001b[0;34m=\u001b[0m \u001b[0mself\u001b[0m\u001b[0;34m.\u001b[0m\u001b[0mdata_inicio\u001b[0m\u001b[0;34m.\u001b[0m\u001b[0mreplace\u001b[0m\u001b[0;34m(\u001b[0m\u001b[0mmonth\u001b[0m\u001b[0;34m=\u001b[0m\u001b[0mi\u001b[0m\u001b[0;34m)\u001b[0m\u001b[0;34m\u001b[0m\u001b[0m\n",
      "\u001b[0;31mTypeError\u001b[0m: 'datetime.date' object cannot be interpreted as an integer"
     ]
    }
   ],
   "source": [
    "evento.multipublish()"
   ]
  }
 ],
 "metadata": {
  "kernelspec": {
   "display_name": "Django Shell-Plus",
   "language": "python",
   "name": "django_extensions"
  },
  "language_info": {
   "codemirror_mode": {
    "name": "ipython",
    "version": 3
   },
   "file_extension": ".py",
   "mimetype": "text/x-python",
   "name": "python",
   "nbconvert_exporter": "python",
   "pygments_lexer": "ipython3",
   "version": "3.6.2"
  }
 },
 "nbformat": 4,
 "nbformat_minor": 2
}
